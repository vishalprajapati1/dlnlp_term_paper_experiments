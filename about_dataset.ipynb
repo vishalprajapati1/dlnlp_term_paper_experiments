{
 "cells": [
  {
   "cell_type": "code",
   "execution_count": 1,
   "metadata": {},
   "outputs": [
    {
     "data": {
      "text/html": [
       "<div>\n",
       "<style scoped>\n",
       "    .dataframe tbody tr th:only-of-type {\n",
       "        vertical-align: middle;\n",
       "    }\n",
       "\n",
       "    .dataframe tbody tr th {\n",
       "        vertical-align: top;\n",
       "    }\n",
       "\n",
       "    .dataframe thead th {\n",
       "        text-align: right;\n",
       "    }\n",
       "</style>\n",
       "<table border=\"1\" class=\"dataframe\">\n",
       "  <thead>\n",
       "    <tr style=\"text-align: right;\">\n",
       "      <th></th>\n",
       "      <th>qid</th>\n",
       "      <th>question</th>\n",
       "    </tr>\n",
       "  </thead>\n",
       "  <tbody>\n",
       "    <tr>\n",
       "      <th>442114</th>\n",
       "      <td>442115</td>\n",
       "      <td>did south korea cheat during the 2014 asian ga...</td>\n",
       "    </tr>\n",
       "  </tbody>\n",
       "</table>\n",
       "</div>"
      ],
      "text/plain": [
       "           qid                                           question\n",
       "442114  442115  did south korea cheat during the 2014 asian ga..."
      ]
     },
     "execution_count": 1,
     "metadata": {},
     "output_type": "execute_result"
    }
   ],
   "source": [
    "import pandas as pd\n",
    "import re\n",
    "\n",
    "quora_question_data = pd.read_csv('Dataset/train.csv')\n",
    "quora_question_data['is_duplicate'] = quora_question_data['is_duplicate'].astype(int)\n",
    "question = pd.concat([ quora_question_data.loc[:, ['qid1', 'question1']].rename(columns={'qid1': 'qid', 'question1': 'question'}), \n",
    "                      quora_question_data.loc[:, ['qid2', 'question2']].rename(columns={'qid2': 'qid', 'question2': 'question'}) ], axis=0)\n",
    "\n",
    "question['question'] = question['question'].astype(str)\n",
    "question['qid'] = question['qid'].astype(int)\n",
    "question = question.sort_values(by='qid')\n",
    "question = question.drop_duplicates(subset='qid', keep='first')\n",
    "question = question.reset_index()\n",
    "question = question.drop('index', axis=1)\n",
    "\n",
    "def process_text(text): \n",
    "    # convert the text to lower case, and substitute space for any special characters\n",
    "    return re.sub(r'[^a-zA-Z0-9\\s]', ' ', text.lower())\n",
    "\n",
    "question['question'] = question['question'].apply(process_text)\n",
    "question['question'] = question['question'].astype(str)\n",
    "question.sample(1)"
   ]
  },
  {
   "cell_type": "code",
   "execution_count": 7,
   "metadata": {},
   "outputs": [
    {
     "name": "stdout",
     "output_type": "stream",
     "text": [
      "No of questions = 537933\n",
      "No fo words = 85320\n"
     ]
    }
   ],
   "source": [
    "words = set()\n",
    "for q in question['question']:\n",
    "    for word in q.split(' '):\n",
    "        words.add(word)\n",
    "        \n",
    "print(f\"No of questions = {len(question)}\")\n",
    "print(f\"No fo words = {len(words)}\")"
   ]
  }
 ],
 "metadata": {
  "kernelspec": {
   "display_name": "Python 3",
   "language": "python",
   "name": "python3"
  },
  "language_info": {
   "codemirror_mode": {
    "name": "ipython",
    "version": 3
   },
   "file_extension": ".py",
   "mimetype": "text/x-python",
   "name": "python",
   "nbconvert_exporter": "python",
   "pygments_lexer": "ipython3",
   "version": "3.8.10"
  }
 },
 "nbformat": 4,
 "nbformat_minor": 2
}
